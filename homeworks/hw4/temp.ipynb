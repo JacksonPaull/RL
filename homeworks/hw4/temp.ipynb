{
 "cells": [
  {
   "cell_type": "code",
   "execution_count": 2,
   "metadata": {},
   "outputs": [],
   "source": [
    "import sarsa\n",
    "from test_sarsa import *"
   ]
  },
  {
   "cell_type": "code",
   "execution_count": 1,
   "metadata": {},
   "outputs": [],
   "source": [
    "%load_ext autoreload\n",
    "%autoreload 2"
   ]
  },
  {
   "cell_type": "code",
   "execution_count": 15,
   "metadata": {},
   "outputs": [],
   "source": [
    "env = gym.make(\"MountainCar-v0\")\n",
    "gamma = 1.\n",
    "\n",
    "X = StateActionFeatureVectorWithTile(\n",
    "    env.observation_space.low,\n",
    "    env.observation_space.high,\n",
    "    env.action_space.n,\n",
    "    num_tilings=10,\n",
    "    tile_width=np.array([.45,.035])\n",
    ")\n",
    "\n"
   ]
  },
  {
   "cell_type": "code",
   "execution_count": 16,
   "metadata": {},
   "outputs": [],
   "source": [
    "s = env.reset()"
   ]
  },
  {
   "cell_type": "code",
   "execution_count": 29,
   "metadata": {},
   "outputs": [
    {
     "data": {
      "text/plain": [
       "array([0., 0., 0., ..., 0., 0., 0.])"
      ]
     },
     "execution_count": 29,
     "metadata": {},
     "output_type": "execute_result"
    }
   ],
   "source": [
    "X(s, False, 0)"
   ]
  },
  {
   "cell_type": "code",
   "execution_count": null,
   "metadata": {},
   "outputs": [],
   "source": [
    "w = SarsaLambda(env, gamma, 0.8, 0.01, X, 2000)\n",
    "\n",
    "def greedy_policy(s,done):\n",
    "    Q = [np.dot(w, X(s,done,a)) for a in range(env.action_space.n)]\n",
    "    return np.argmax(Q)\n",
    "\n",
    "def _eval(render=False):\n",
    "    s, done = env.reset(), False\n",
    "    if render: env.render()\n",
    "\n",
    "    G = 0.\n",
    "    while not done:\n",
    "        a = greedy_policy(s,done)\n",
    "        s,r,done,_ = env.step(a)\n",
    "        if render: env.render()\n",
    "\n",
    "        G += r\n",
    "    return G\n",
    "\n",
    "Gs = [_eval() for _ in  range(100)]\n",
    "_eval(True)\n",
    "\n",
    "assert np.max(Gs) >= -110.0, 'fail to solve mountaincar'"
   ]
  }
 ],
 "metadata": {
  "kernelspec": {
   "display_name": "RL",
   "language": "python",
   "name": "python3"
  },
  "language_info": {
   "codemirror_mode": {
    "name": "ipython",
    "version": 3
   },
   "file_extension": ".py",
   "mimetype": "text/x-python",
   "name": "python",
   "nbconvert_exporter": "python",
   "pygments_lexer": "ipython3",
   "version": "3.10.13"
  }
 },
 "nbformat": 4,
 "nbformat_minor": 2
}
